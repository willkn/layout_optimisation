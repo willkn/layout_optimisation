{
 "cells": [
  {
   "cell_type": "code",
   "execution_count": 4,
   "metadata": {},
   "outputs": [
    {
     "name": "stdout",
     "output_type": "stream",
     "text": [
      "Pick 1,Pick 2,Pick 3,Pick 4,Pick 5\n",
      "Söderhamn Sectional,Alex Drawer Unit,Ivar Shelving Unit,,\n",
      "Stefan Chair,Nordli Bed Frame,Alex Drawer Unit,,\n",
      "Raskog Cart,Söderhamn Sectional,Poäng Armchair,Norraker Table,Brusali Wardrobe\n",
      "Sultan Lien Bed Frame,Poäng Armchair,Vittsjo Shelving Unit,,\n",
      "Norraker Table,Malm Bed Frame,Linnmon Desk,,\n",
      "Söderhamn Sectional,Flisat Children’s Table,Kungsbacka Kitchen Cabinets,Lack Coffee Table,Fjallbo TV Stand\n",
      "Kungsbacka Kitchen Cabinets,Tarva Bed Frame,Malm Bed Frame,Sultan Lien Bed Frame,Ektorp Sofa\n",
      "Norraker Table,Ektorp Sofa,Alex Drawer Unit,,\n",
      "Raskog Cart,Brusali Wardrobe,Alex Drawer Unit,,\n",
      "Tarva Bed Frame,Vittsjo Shelving Unit,Alex Drawer Unit,Ivar Shelving Unit,Luroy Slatted Bed Base\n",
      "\n"
     ]
    }
   ],
   "source": [
    "import random\n",
    "import csv\n",
    "\n",
    "# Example array of IKEA items\n",
    "ikea_items = ['Billy Bookcase', 'Kallax Shelf Unit', 'Malm Bed Frame', 'Lack Coffee Table', 'Poäng Armchair', 'Brusali Wardrobe', 'Hemnes Daybed', 'Ektorp Sofa', 'Norraker Table', 'Vittsjo Shelving Unit', 'Fjallbo TV Stand', 'Linnmon Desk', 'Henriksdal Chair', 'Söderhamn Sectional', 'Alex Drawer Unit', 'Brimnes Bed Frame', 'Flisat Children’s Table', 'Stefan Chair', 'Kungsbacka Kitchen Cabinets', 'Raskog Cart', 'Tarva Bed Frame', 'Sultan Lien Bed Frame', 'Luroy Slatted Bed Base', 'Nordli Bed Frame', 'Granas Table and 4 Chairs', 'Frosta Stool', 'Mosslanda Picture Ledge', 'Ivar Shelving Unit']\n",
    "\n",
    "# Initialize an empty list to hold the picks\n",
    "picks = []\n",
    "\n",
    "# Generate 10 picks\n",
    "for i in range(10):\n",
    "    # Randomly choose a length for the pick between 3-5\n",
    "    pick_length = random.randint(3, 5)\n",
    "    # Randomly select items for the pick\n",
    "    pick_items = random.sample(ikea_items, pick_length)\n",
    "    # Append the pick to the list of picks\n",
    "    picks.append(pick_items)\n",
    "\n",
    "# Open a file for writing the CSV\n",
    "with open('historic_picks.csv', mode='w', newline='') as file:\n",
    "    # Create a CSV writer object\n",
    "    writer = csv.writer(file)\n",
    "    # Write the header row\n",
    "    writer.writerow(['Pick 1', 'Pick 2', 'Pick 3', 'Pick 4', 'Pick 5'])\n",
    "    # Write each pick to a row in the CSV\n",
    "    for pick in picks:\n",
    "        # Pad the pick with empty strings to ensure it has 5 items\n",
    "        pick += [''] * (5 - len(pick))\n",
    "        # Write the pick to a row in the CSV\n",
    "        writer.writerow(pick)"
   ]
  }
 ],
 "metadata": {
  "kernelspec": {
   "display_name": "Python 3",
   "language": "python",
   "name": "python3"
  },
  "language_info": {
   "codemirror_mode": {
    "name": "ipython",
    "version": 3
   },
   "file_extension": ".py",
   "mimetype": "text/x-python",
   "name": "python",
   "nbconvert_exporter": "python",
   "pygments_lexer": "ipython3",
   "version": "3.10.6"
  },
  "orig_nbformat": 4
 },
 "nbformat": 4,
 "nbformat_minor": 2
}
