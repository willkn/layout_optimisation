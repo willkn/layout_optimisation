{
 "cells": [
  {
   "cell_type": "code",
   "execution_count": 75,
   "metadata": {},
   "outputs": [],
   "source": [
    "import csv\n",
    "\n",
    "# Removes all none ASCII characters and replaces them with spaces\n",
    "with open('pickHistoryOrderNo.csv', 'r', encoding='utf-8', errors='ignore') as file_in, open('output_file.csv', 'w', newline='', encoding='utf-8') as file_out:\n",
    "    reader = csv.reader(file_in)\n",
    "    writer = csv.writer(file_out)\n",
    "\n",
    "    # Write the header row to the output file\n",
    "    header = next(reader)\n",
    "    writer.writerow(header)\n",
    "\n",
    "    # Iterate over the rows in the input file and clean each row before writing it to the output file\n",
    "    for row in reader:\n",
    "        cleaned_row = []\n",
    "        for cell in row:\n",
    "            # Replace any non-unicode characters with spaces\n",
    "            cleaned_cell = ''.join([char if ord(char) < 128 else ' ' for char in cell])\n",
    "            cleaned_row.append(cleaned_cell)\n",
    "        writer.writerow(cleaned_row)\n"
   ]
  },
  {
   "cell_type": "code",
   "execution_count": 76,
   "metadata": {},
   "outputs": [],
   "source": [
    "# Remove whitespace and tabs\n",
    "\n",
    "import csv\n",
    "\n",
    "with open('output_file.csv', 'r', encoding='utf-8', errors='ignore') as file_in, open('leanPicks.csv', 'w', newline='', encoding='utf-8') as file_out:\n",
    "    reader = csv.reader(file_in, delimiter='\\t')\n",
    "    writer = csv.writer(file_out)\n",
    "\n",
    "    # Write the header row to the output file\n",
    "    header = next(reader)\n",
    "    header = [col.replace(' ', '').strip() for col in header]  # Remove whitespace and tab in column names\n",
    "    writer.writerow(header)\n",
    "\n",
    "    # Iterate over the rows in the input file, remove any whitespace or tabs, and write to the output file\n",
    "    for row in reader:\n",
    "        cleaned_row = [cell.replace(' ', '').strip() for cell in row]\n",
    "        writer.writerow(cleaned_row)\n"
   ]
  },
  {
   "cell_type": "code",
   "execution_count": 77,
   "metadata": {},
   "outputs": [
    {
     "data": {
      "text/plain": [
       "['ISELL_ORDER_NUMBER\\tPICK_ID\\tARTNO   \\tARTNAME_UNICODE                                   \\tART_VOLUME_M3\\tORDERED_QTY\\tPICKED_QTY\\tOPEN_PICK_QTY\\tAVAILABLE_STOCK\\tPOSSIBLE_TO_FINISH\\tORDER_TYPE \\tDATE_OF_PAYMENT\\tTIME_OF_PAYMENT\\tEXCEPTION\\tPICK_AREA          \\tACTUAL_ORDER_STATUS\\tSTORAGE_STATUS\\tSTORAGE_USED\\tHANDOVER_POINT\\tCUT_OFF_DATE\\tCUT_OFF_TIME\\tUSER_PICKING\\tSERVICE_DATE\\tSERVICE_WINDOW\\tORDER_METHOD\\tPICK_LOCATION\\tPICK_LOCATION_TYPE\\tDELIVERY_METHOD                  ']"
      ]
     },
     "execution_count": 77,
     "metadata": {},
     "output_type": "execute_result"
    }
   ],
   "source": [
    "# List refactored column headers\n",
    "\n",
    "import pandas as pd\n",
    "\n",
    "df = pd.read_csv(\"output_file.csv\", on_bad_lines=\"skip\")\n",
    "df.columns.values.tolist()"
   ]
  },
  {
   "cell_type": "code",
   "execution_count": 78,
   "metadata": {},
   "outputs": [],
   "source": [
    "# Create a new csv that contains only the columns we are interested in\n",
    "\n",
    "# Read csv file and select columns of interest\n",
    "df = pd.read_csv('leanPicks.csv', usecols=['ISELL_ORDER_NUMBER', 'PICK_ID', 'ARTNAME_UNICODE', 'ORDER_TYPE', 'PICK_AREA', 'ARTNO'])\n",
    "\n",
    "# Write the selected columns to a new csv file\n",
    "df.to_csv('output_file.csv', index=False)"
   ]
  },
  {
   "cell_type": "code",
   "execution_count": 79,
   "metadata": {},
   "outputs": [],
   "source": [
    "import pandas as pd\n",
    "\n",
    "# Read csv file\n",
    "df = pd.read_csv('output_file.csv')\n",
    "\n",
    "# Convert ARTNO to string\n",
    "df['ARTNO'] = df['ARTNO'].astype(str)\n",
    "\n",
    "# Group by order number and concatenate article numbers\n",
    "orders = df.groupby('ISELL_ORDER_NUMBER')['ARTNO'].apply(lambda x: ','.join(x)).reset_index()\n",
    "\n",
    "# Rename columns\n",
    "orders.columns = ['order_number', 'articles']\n",
    "\n",
    "# Write to new csv file\n",
    "orders.to_csv('orders.csv', index=False)\n",
    "\n"
   ]
  },
  {
   "cell_type": "code",
   "execution_count": 86,
   "metadata": {},
   "outputs": [],
   "source": [
    "with open('orders.csv', 'r') as csvfile:\n",
    "    csvreader = csv.reader(csvfile)\n",
    "    with open('strippedOrders.csv', 'w', newline='') as newfile:\n",
    "        csvwriter = csv.writer(newfile)\n",
    "\n",
    "        for row in csvreader:\n",
    "            newrow = [cell.replace('\"', '') for cell in row]\n",
    "            csvwriter.writerow(newrow)\n"
   ]
  }
 ],
 "metadata": {
  "kernelspec": {
   "display_name": "Python 3",
   "language": "python",
   "name": "python3"
  },
  "language_info": {
   "codemirror_mode": {
    "name": "ipython",
    "version": 3
   },
   "file_extension": ".py",
   "mimetype": "text/x-python",
   "name": "python",
   "nbconvert_exporter": "python",
   "pygments_lexer": "ipython3",
   "version": "3.10.6"
  },
  "orig_nbformat": 4
 },
 "nbformat": 4,
 "nbformat_minor": 2
}
