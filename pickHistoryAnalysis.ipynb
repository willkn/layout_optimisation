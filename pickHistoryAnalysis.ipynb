{
 "cells": [
  {
   "cell_type": "code",
   "execution_count": 41,
   "metadata": {},
   "outputs": [
    {
     "ename": "FileNotFoundError",
     "evalue": "[Errno 2] No such file or directory: 'pickHistoryOrderNo.csv'",
     "output_type": "error",
     "traceback": [
      "\u001b[0;31m---------------------------------------------------------------------------\u001b[0m",
      "\u001b[0;31mFileNotFoundError\u001b[0m                         Traceback (most recent call last)",
      "Cell \u001b[0;32mIn[41], line 4\u001b[0m\n\u001b[1;32m      1\u001b[0m \u001b[39mimport\u001b[39;00m \u001b[39mcsv\u001b[39;00m\n\u001b[1;32m      3\u001b[0m \u001b[39m# Removes all none ASCII characters and replaces them with spaces\u001b[39;00m\n\u001b[0;32m----> 4\u001b[0m \u001b[39mwith\u001b[39;00m \u001b[39mopen\u001b[39;49m(\u001b[39m'\u001b[39;49m\u001b[39mpickHistoryOrderNo.csv\u001b[39;49m\u001b[39m'\u001b[39;49m, \u001b[39m'\u001b[39;49m\u001b[39mr\u001b[39;49m\u001b[39m'\u001b[39;49m, encoding\u001b[39m=\u001b[39;49m\u001b[39m'\u001b[39;49m\u001b[39mutf-8\u001b[39;49m\u001b[39m'\u001b[39;49m, errors\u001b[39m=\u001b[39;49m\u001b[39m'\u001b[39;49m\u001b[39mignore\u001b[39;49m\u001b[39m'\u001b[39;49m) \u001b[39mas\u001b[39;00m file_in, \u001b[39mopen\u001b[39m(\u001b[39m'\u001b[39m\u001b[39moutput_file.csv\u001b[39m\u001b[39m'\u001b[39m, \u001b[39m'\u001b[39m\u001b[39mw\u001b[39m\u001b[39m'\u001b[39m, newline\u001b[39m=\u001b[39m\u001b[39m'\u001b[39m\u001b[39m'\u001b[39m, encoding\u001b[39m=\u001b[39m\u001b[39m'\u001b[39m\u001b[39mutf-8\u001b[39m\u001b[39m'\u001b[39m) \u001b[39mas\u001b[39;00m file_out:\n\u001b[1;32m      5\u001b[0m     reader \u001b[39m=\u001b[39m csv\u001b[39m.\u001b[39mreader(file_in)\n\u001b[1;32m      6\u001b[0m     writer \u001b[39m=\u001b[39m csv\u001b[39m.\u001b[39mwriter(file_out)\n",
      "File \u001b[0;32m~/.local/lib/python3.10/site-packages/IPython/core/interactiveshell.py:284\u001b[0m, in \u001b[0;36m_modified_open\u001b[0;34m(file, *args, **kwargs)\u001b[0m\n\u001b[1;32m    277\u001b[0m \u001b[39mif\u001b[39;00m file \u001b[39min\u001b[39;00m {\u001b[39m0\u001b[39m, \u001b[39m1\u001b[39m, \u001b[39m2\u001b[39m}:\n\u001b[1;32m    278\u001b[0m     \u001b[39mraise\u001b[39;00m \u001b[39mValueError\u001b[39;00m(\n\u001b[1;32m    279\u001b[0m         \u001b[39mf\u001b[39m\u001b[39m\"\u001b[39m\u001b[39mIPython won\u001b[39m\u001b[39m'\u001b[39m\u001b[39mt let you open fd=\u001b[39m\u001b[39m{\u001b[39;00mfile\u001b[39m}\u001b[39;00m\u001b[39m by default \u001b[39m\u001b[39m\"\u001b[39m\n\u001b[1;32m    280\u001b[0m         \u001b[39m\"\u001b[39m\u001b[39mas it is likely to crash IPython. If you know what you are doing, \u001b[39m\u001b[39m\"\u001b[39m\n\u001b[1;32m    281\u001b[0m         \u001b[39m\"\u001b[39m\u001b[39myou can use builtins\u001b[39m\u001b[39m'\u001b[39m\u001b[39m open.\u001b[39m\u001b[39m\"\u001b[39m\n\u001b[1;32m    282\u001b[0m     )\n\u001b[0;32m--> 284\u001b[0m \u001b[39mreturn\u001b[39;00m io_open(file, \u001b[39m*\u001b[39;49margs, \u001b[39m*\u001b[39;49m\u001b[39m*\u001b[39;49mkwargs)\n",
      "\u001b[0;31mFileNotFoundError\u001b[0m: [Errno 2] No such file or directory: 'pickHistoryOrderNo.csv'"
     ]
    }
   ],
   "source": [
    "import csv\n",
    "\n",
    "# Removes all none ASCII characters and replaces them with spaces\n",
    "with open('pickHistoryOrderNo.csv', 'r', encoding='utf-8', errors='ignore') as file_in, open('output_file.csv', 'w', newline='', encoding='utf-8') as file_out:\n",
    "    reader = csv.reader(file_in)\n",
    "    writer = csv.writer(file_out)\n",
    "\n",
    "    # Write the header row to the output file\n",
    "    header = next(reader)\n",
    "    writer.writerow(header)\n",
    "\n",
    "    # Iterate over the rows in the input file and clean each row before writing it to the output file\n",
    "    for row in reader:\n",
    "        cleaned_row = []\n",
    "        for cell in row:\n",
    "            # Replace any non-unicode characters with spaces\n",
    "            cleaned_cell = ''.join([char if ord(char) < 128 else ' ' for char in cell])\n",
    "            cleaned_row.append(cleaned_cell)\n",
    "        writer.writerow(cleaned_row)\n"
   ]
  },
  {
   "cell_type": "code",
   "execution_count": 50,
   "metadata": {},
   "outputs": [],
   "source": [
    "# Remove whitespace and tabs\n",
    "\n",
    "import csv\n",
    "\n",
    "with open('leanPicks.csv', 'r', encoding='utf-8', errors='ignore') as file_in, open('output_file.csv', 'w', newline='', encoding='utf-8') as file_out:\n",
    "    reader = csv.reader(file_in, delimiter='\\t')\n",
    "    writer = csv.writer(file_out)\n",
    "\n",
    "    # Write the header row to the output file\n",
    "    header = next(reader)\n",
    "    header = [col.replace(' ', '').strip() for col in header]  # Remove whitespace and tab in column names\n",
    "    writer.writerow(header)\n",
    "\n",
    "    # Iterate over the rows in the input file, remove any whitespace or tabs, and write to the output file\n",
    "    for row in reader:\n",
    "        cleaned_row = [cell.replace(' ', '').strip() for cell in row]\n",
    "        writer.writerow(cleaned_row)\n"
   ]
  },
  {
   "cell_type": "code",
   "execution_count": 51,
   "metadata": {},
   "outputs": [
    {
     "data": {
      "text/plain": [
       "['ISELL_ORDER_NUMBER',\n",
       " 'PICK_ID',\n",
       " 'ARTNO',\n",
       " 'ARTNAME_UNICODE',\n",
       " 'ART_VOLUME_M3',\n",
       " 'ORDERED_QTY',\n",
       " 'PICKED_QTY',\n",
       " 'OPEN_PICK_QTY',\n",
       " 'AVAILABLE_STOCK',\n",
       " 'POSSIBLE_TO_FINISH',\n",
       " 'ORDER_TYPE',\n",
       " 'DATE_OF_PAYMENT',\n",
       " 'TIME_OF_PAYMENT',\n",
       " 'EXCEPTION',\n",
       " 'PICK_AREA',\n",
       " 'ACTUAL_ORDER_STATUS',\n",
       " 'STORAGE_STATUS',\n",
       " 'STORAGE_USED',\n",
       " 'HANDOVER_POINT',\n",
       " 'CUT_OFF_DATE',\n",
       " 'CUT_OFF_TIME',\n",
       " 'USER_PICKING',\n",
       " 'SERVICE_DATE',\n",
       " 'SERVICE_WINDOW',\n",
       " 'ORDER_METHOD',\n",
       " 'PICK_LOCATION',\n",
       " 'PICK_LOCATION_TYPE',\n",
       " 'DELIVERY_METHOD']"
      ]
     },
     "execution_count": 51,
     "metadata": {},
     "output_type": "execute_result"
    }
   ],
   "source": [
    "# List refactored column headers\n",
    "\n",
    "import pandas as pd\n",
    "\n",
    "df = pd.read_csv(\"output_file.csv\", on_bad_lines=\"skip\")\n",
    "df.columns.values.tolist()"
   ]
  },
  {
   "cell_type": "code",
   "execution_count": 54,
   "metadata": {},
   "outputs": [],
   "source": [
    "# Read csv file and select columns of interest\n",
    "df = pd.read_csv('output_file.csv', usecols=['ISELL_ORDER_NUMBER', 'PICK_ID', 'ARTNAME_UNICODE', 'ORDER_TYPE', 'PICK_AREA'])\n",
    "\n",
    "# Write the selected columns to a new csv file\n",
    "df.to_csv('output_file.csv', index=False)"
   ]
  }
 ],
 "metadata": {
  "kernelspec": {
   "display_name": "Python 3",
   "language": "python",
   "name": "python3"
  },
  "language_info": {
   "codemirror_mode": {
    "name": "ipython",
    "version": 3
   },
   "file_extension": ".py",
   "mimetype": "text/x-python",
   "name": "python",
   "nbconvert_exporter": "python",
   "pygments_lexer": "ipython3",
   "version": "3.10.6"
  },
  "orig_nbformat": 4
 },
 "nbformat": 4,
 "nbformat_minor": 2
}
